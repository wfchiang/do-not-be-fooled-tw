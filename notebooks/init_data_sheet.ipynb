{
 "cells": [
  {
   "cell_type": "code",
   "execution_count": null,
   "metadata": {},
   "outputs": [],
   "source": [
    "import os \n",
    "from pathlib import Path \n",
    "\n",
    "RAW_DATA_SHEET = '' \n",
    "RAW_DATA_SHEET = Path(RAW_DATA_SHEET)\n",
    "assert(RAW_DATA_SHEET.is_file())\n",
    "\n",
    "INIT_DATA_SHEET = '' \n",
    "INIT_DATA_SHEET = Path(INIT_DATA_SHEET)\n",
    "assert(INIT_DATA_SHEET.is_file())\n",
    "\n",
    "assert(str(RAW_DATA_SHEET) != str(INIT_DATA_SHEET))"
   ]
  },
  {
   "cell_type": "code",
   "execution_count": null,
   "metadata": {},
   "outputs": [],
   "source": [
    "import pandas \n",
    "\n",
    "def load_df (df_path): \n",
    "    assert(isinstance(df_path, Path))\n",
    "    if (df_path.suffix == '.csv'): \n",
    "        return pandas.read_csv(str(df_path))\n",
    "    elif (df_path.suffix == '.xlsx'): \n",
    "        return pandas.read_excel(str(df_path))\n",
    "    else: \n",
    "        assert(False), '[ERROR] Cannot load data file: {}'.format(str(df_path))\n",
    "\n",
    "DF = load_df(RAW_DATA_SHEET)\n",
    "DF_LEN = len(DF) \n",
    "\n",
    "DF['Anti-China'] = ''  \n",
    "DF['Anti-US'] = '' \n",
    "DF['Anti-Japan'] = ''  \n",
    "\n",
    "DF['Anti-KMT'] = '' \n",
    "DF['Anti-DPP'] = '' \n"
   ]
  }
 ],
 "metadata": {
  "language_info": {
   "codemirror_mode": {
    "name": "ipython",
    "version": 3
   },
   "file_extension": ".py",
   "mimetype": "text/x-python",
   "name": "python",
   "nbconvert_exporter": "python",
   "pygments_lexer": "ipython3",
   "version": 3
  },
  "orig_nbformat": 2
 },
 "nbformat": 4,
 "nbformat_minor": 2
}